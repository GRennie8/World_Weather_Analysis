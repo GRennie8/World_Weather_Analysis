{
 "cells": [
  {
   "cell_type": "markdown",
   "metadata": {},
   "source": [
    "## Deliverable 3. Create a Travel Itinerary Map."
   ]
  },
  {
   "cell_type": "code",
   "execution_count": 1,
   "metadata": {},
   "outputs": [],
   "source": [
    "# Dependencies and Setup\n",
    "import pandas as pd\n",
    "import requests\n",
    "import gmaps\n",
    "import numpy as np\n",
    "\n",
    "# Import API key\n",
    "import sys\n",
    "sys.path.append(\"..\")\n",
    "from config import g_key\n",
    "\n",
    "# Configure gmaps\n",
    "gmaps.configure(api_key=g_key)"
   ]
  },
  {
   "cell_type": "code",
   "execution_count": 4,
   "metadata": {},
   "outputs": [
    {
     "data": {
      "text/html": [
       "<div>\n",
       "<style scoped>\n",
       "    .dataframe tbody tr th:only-of-type {\n",
       "        vertical-align: middle;\n",
       "    }\n",
       "\n",
       "    .dataframe tbody tr th {\n",
       "        vertical-align: top;\n",
       "    }\n",
       "\n",
       "    .dataframe thead th {\n",
       "        text-align: right;\n",
       "    }\n",
       "</style>\n",
       "<table border=\"1\" class=\"dataframe\">\n",
       "  <thead>\n",
       "    <tr style=\"text-align: right;\">\n",
       "      <th></th>\n",
       "      <th>City_ID</th>\n",
       "      <th>City</th>\n",
       "      <th>Country</th>\n",
       "      <th>Max Temp</th>\n",
       "      <th>Current Description</th>\n",
       "      <th>Lat</th>\n",
       "      <th>Lng</th>\n",
       "      <th>Hotel Name</th>\n",
       "    </tr>\n",
       "  </thead>\n",
       "  <tbody>\n",
       "    <tr>\n",
       "      <th>282</th>\n",
       "      <td>652</td>\n",
       "      <td>Caravelas</td>\n",
       "      <td>BR</td>\n",
       "      <td>75.83</td>\n",
       "      <td>broken clouds</td>\n",
       "      <td>-17.7125</td>\n",
       "      <td>-39.2481</td>\n",
       "      <td>Pousada dos Navegantes</td>\n",
       "    </tr>\n",
       "    <tr>\n",
       "      <th>283</th>\n",
       "      <td>655</td>\n",
       "      <td>Palafrugell</td>\n",
       "      <td>ES</td>\n",
       "      <td>81.34</td>\n",
       "      <td>clear sky</td>\n",
       "      <td>41.9174</td>\n",
       "      <td>3.1631</td>\n",
       "      <td>Hotel La Torre</td>\n",
       "    </tr>\n",
       "    <tr>\n",
       "      <th>284</th>\n",
       "      <td>663</td>\n",
       "      <td>San Andres</td>\n",
       "      <td>CO</td>\n",
       "      <td>75.22</td>\n",
       "      <td>moderate rain</td>\n",
       "      <td>12.5847</td>\n",
       "      <td>-81.7006</td>\n",
       "      <td>Hotel Arena Blanca</td>\n",
       "    </tr>\n",
       "    <tr>\n",
       "      <th>285</th>\n",
       "      <td>665</td>\n",
       "      <td>Monrovia</td>\n",
       "      <td>LR</td>\n",
       "      <td>78.10</td>\n",
       "      <td>light rain</td>\n",
       "      <td>6.3005</td>\n",
       "      <td>-10.7969</td>\n",
       "      <td>Sunset Inn</td>\n",
       "    </tr>\n",
       "    <tr>\n",
       "      <th>286</th>\n",
       "      <td>672</td>\n",
       "      <td>Kailua</td>\n",
       "      <td>US</td>\n",
       "      <td>81.48</td>\n",
       "      <td>scattered clouds</td>\n",
       "      <td>21.4022</td>\n",
       "      <td>-157.7394</td>\n",
       "      <td>Sheffield House Bed &amp; Breakfast</td>\n",
       "    </tr>\n",
       "  </tbody>\n",
       "</table>\n",
       "</div>"
      ],
      "text/plain": [
       "     City_ID         City Country  Max Temp Current Description      Lat  \\\n",
       "282      652    Caravelas      BR     75.83       broken clouds -17.7125   \n",
       "283      655  Palafrugell      ES     81.34           clear sky  41.9174   \n",
       "284      663   San Andres      CO     75.22       moderate rain  12.5847   \n",
       "285      665     Monrovia      LR     78.10          light rain   6.3005   \n",
       "286      672       Kailua      US     81.48    scattered clouds  21.4022   \n",
       "\n",
       "          Lng                       Hotel Name  \n",
       "282  -39.2481           Pousada dos Navegantes  \n",
       "283    3.1631                   Hotel La Torre  \n",
       "284  -81.7006               Hotel Arena Blanca  \n",
       "285  -10.7969                       Sunset Inn  \n",
       "286 -157.7394  Sheffield House Bed & Breakfast  "
      ]
     },
     "execution_count": 4,
     "metadata": {},
     "output_type": "execute_result"
    }
   ],
   "source": [
    "# 1. Read the WeatherPy_vacation.csv into a DataFrame.\n",
    "vacation_df = pd.read_csv(\"../Vacation_Search/WeatherPy_vacation.csv\")\n",
    "vacation_df.tail()"
   ]
  },
  {
   "cell_type": "code",
   "execution_count": 5,
   "metadata": {},
   "outputs": [],
   "source": [
    "# 2. Using the template add the city name, the country code, the weather description and maximum temperature for the city.\n",
    "info_box_template = \"\"\"\n",
    "<dl>\n",
    "<dt>City</dt><dd>{City}</dd>\n",
    "<dt>Country</dt><dd>{Country}</dd>\n",
    "<dt>Current Weather</dt><dd>{Current Description}<dd>\n",
    "<dt>Max Temp</dt><dd>{Max Temp}°F</dd>\n",
    "</dl>\n",
    "\"\"\"\n",
    "\n",
    "# 3a. Get the data from each row and add it to the formatting template and store the data in a list.\n",
    "hotel_info = [info_box_template.format(**row) for index, row in vacation_df.iterrows()]\n",
    "\n",
    "# 3b. Get the latitude and longitude from each row and store in a new DataFrame.\n",
    "locations = vacation_df[[\"Lat\", \"Lng\"]]"
   ]
  },
  {
   "cell_type": "code",
   "execution_count": 6,
   "metadata": {},
   "outputs": [
    {
     "data": {
      "application/vnd.jupyter.widget-view+json": {
       "model_id": "3de3b334cd1549aab70296d928d1fc15",
       "version_major": 2,
       "version_minor": 0
      },
      "text/plain": [
       "Figure(layout=FigureLayout(height='420px'))"
      ]
     },
     "metadata": {},
     "output_type": "display_data"
    }
   ],
   "source": [
    "# 4a. Add a marker layer for each city to the map.\n",
    "fig = gmaps.figure(center=(30.0, 31.0), zoom_level=1.5)\n",
    "markers = gmaps.marker_layer(locations, info_box_content=hotel_info)\n",
    "fig.add_layer(markers)\n",
    "# 4b. Display the figure\n",
    "fig\n"
   ]
  },
  {
   "cell_type": "code",
   "execution_count": 7,
   "metadata": {},
   "outputs": [],
   "source": [
    "# From the map above pick 4 cities and create a vacation itinerary route to travel between the four cities. \n",
    "# 5. Create DataFrames for each city by filtering the 'vacation_df' using the loc method. \n",
    "# Hint: The starting and ending city should be the same city.\n",
    "\n",
    "vacation_start = vacation_df.loc[(vacation_df[\"City\"] == \"La Rioja\")]\n",
    "vacation_end = vacation_df.loc[(vacation_df[\"City\"] == \"La Rioja\")]\n",
    "vacation_stop1 = vacation_df.loc[(vacation_df[\"City\"] == \"Peniche\")]\n",
    "vacation_stop2 = vacation_df.loc[(vacation_df[\"City\"] == \"Areosa\")] \n",
    "vacation_stop3 = vacation_df.loc[(vacation_df[\"City\"] == \"Muros\")] "
   ]
  },
  {
   "cell_type": "code",
   "execution_count": 12,
   "metadata": {},
   "outputs": [
    {
     "data": {
      "text/html": [
       "<div>\n",
       "<style scoped>\n",
       "    .dataframe tbody tr th:only-of-type {\n",
       "        vertical-align: middle;\n",
       "    }\n",
       "\n",
       "    .dataframe tbody tr th {\n",
       "        vertical-align: top;\n",
       "    }\n",
       "\n",
       "    .dataframe thead th {\n",
       "        text-align: right;\n",
       "    }\n",
       "</style>\n",
       "<table border=\"1\" class=\"dataframe\">\n",
       "  <thead>\n",
       "    <tr style=\"text-align: right;\">\n",
       "      <th></th>\n",
       "      <th>City_ID</th>\n",
       "      <th>City</th>\n",
       "      <th>Country</th>\n",
       "      <th>Max Temp</th>\n",
       "      <th>Current Description</th>\n",
       "      <th>Lat</th>\n",
       "      <th>Lng</th>\n",
       "      <th>Hotel Name</th>\n",
       "    </tr>\n",
       "  </thead>\n",
       "  <tbody>\n",
       "    <tr>\n",
       "      <th>215</th>\n",
       "      <td>511</td>\n",
       "      <td>La Rioja</td>\n",
       "      <td>ES</td>\n",
       "      <td>71.38</td>\n",
       "      <td>overcast clouds</td>\n",
       "      <td>42.25</td>\n",
       "      <td>-2.5</td>\n",
       "      <td>Casa Concejos</td>\n",
       "    </tr>\n",
       "  </tbody>\n",
       "</table>\n",
       "</div>"
      ],
      "text/plain": [
       "     City_ID      City Country  Max Temp Current Description    Lat  Lng  \\\n",
       "215      511  La Rioja      ES     71.38     overcast clouds  42.25 -2.5   \n",
       "\n",
       "        Hotel Name  \n",
       "215  Casa Concejos  "
      ]
     },
     "execution_count": 12,
     "metadata": {},
     "output_type": "execute_result"
    }
   ],
   "source": [
    "vacation_start"
   ]
  },
  {
   "cell_type": "code",
   "execution_count": 14,
   "metadata": {},
   "outputs": [
    {
     "data": {
      "text/plain": [
       "(42.25, -2.5)"
      ]
     },
     "execution_count": 14,
     "metadata": {},
     "output_type": "execute_result"
    }
   ],
   "source": [
    "# 6. Get the latitude-longitude pairs as tuples from each city DataFrame using the to_numpy function and list indexing.\n",
    "start = (vacation_start.to_numpy()[0][5], vacation_start.to_numpy()[0][6])\n",
    "end = (vacation_end.to_numpy()[0][5], vacation_end.to_numpy()[0][6])\n",
    "stop1 = (vacation_stop1.to_numpy()[0][5], vacation_stop1.to_numpy()[0][6])\n",
    "stop2 = (vacation_stop2.to_numpy()[0][5], vacation_stop2.to_numpy()[0][6])\n",
    "stop3 = (vacation_stop3.to_numpy()[0][5], vacation_stop3.to_numpy()[0][6])\n",
    "start"
   ]
  },
  {
   "cell_type": "code",
   "execution_count": 15,
   "metadata": {
    "scrolled": true
   },
   "outputs": [
    {
     "data": {
      "application/vnd.jupyter.widget-view+json": {
       "model_id": "d448affb06f04626a702509059dd0bec",
       "version_major": 2,
       "version_minor": 0
      },
      "text/plain": [
       "Figure(layout=FigureLayout(height='420px'))"
      ]
     },
     "metadata": {},
     "output_type": "display_data"
    }
   ],
   "source": [
    "# 7. Create a direction layer map using the start and end latitude-longitude pairs,\n",
    "# and stop1, stop2, and stop3 as the waypoints. The travel_mode should be \"DRIVING\", \"BICYCLING\", or \"WALKING\".\n",
    "fig = gmaps.figure()\n",
    "travel_route = gmaps.directions_layer(start, end, waypoints=[stop1,stop2,stop3], travel_mode=\"DRIVING\" or \"BICYCLING\" or \"WALKING\")\n",
    "fig.add_layer(travel_route)\n",
    "fig\n"
   ]
  },
  {
   "cell_type": "code",
   "execution_count": 16,
   "metadata": {},
   "outputs": [
    {
     "data": {
      "text/html": [
       "<div>\n",
       "<style scoped>\n",
       "    .dataframe tbody tr th:only-of-type {\n",
       "        vertical-align: middle;\n",
       "    }\n",
       "\n",
       "    .dataframe tbody tr th {\n",
       "        vertical-align: top;\n",
       "    }\n",
       "\n",
       "    .dataframe thead th {\n",
       "        text-align: right;\n",
       "    }\n",
       "</style>\n",
       "<table border=\"1\" class=\"dataframe\">\n",
       "  <thead>\n",
       "    <tr style=\"text-align: right;\">\n",
       "      <th></th>\n",
       "      <th>City_ID</th>\n",
       "      <th>City</th>\n",
       "      <th>Country</th>\n",
       "      <th>Max Temp</th>\n",
       "      <th>Current Description</th>\n",
       "      <th>Lat</th>\n",
       "      <th>Lng</th>\n",
       "      <th>Hotel Name</th>\n",
       "    </tr>\n",
       "  </thead>\n",
       "  <tbody>\n",
       "    <tr>\n",
       "      <th>0</th>\n",
       "      <td>511</td>\n",
       "      <td>La Rioja</td>\n",
       "      <td>ES</td>\n",
       "      <td>71.38</td>\n",
       "      <td>overcast clouds</td>\n",
       "      <td>42.2500</td>\n",
       "      <td>-2.5000</td>\n",
       "      <td>Casa Concejos</td>\n",
       "    </tr>\n",
       "    <tr>\n",
       "      <th>1</th>\n",
       "      <td>103</td>\n",
       "      <td>Peniche</td>\n",
       "      <td>PT</td>\n",
       "      <td>76.28</td>\n",
       "      <td>clear sky</td>\n",
       "      <td>39.3558</td>\n",
       "      <td>-9.3811</td>\n",
       "      <td>Hotel Star inn Peniche</td>\n",
       "    </tr>\n",
       "    <tr>\n",
       "      <th>2</th>\n",
       "      <td>467</td>\n",
       "      <td>Areosa</td>\n",
       "      <td>PT</td>\n",
       "      <td>71.82</td>\n",
       "      <td>light rain</td>\n",
       "      <td>41.7178</td>\n",
       "      <td>-8.8571</td>\n",
       "      <td>Hotel Flôr de Sal</td>\n",
       "    </tr>\n",
       "    <tr>\n",
       "      <th>3</th>\n",
       "      <td>106</td>\n",
       "      <td>Muros</td>\n",
       "      <td>ES</td>\n",
       "      <td>77.68</td>\n",
       "      <td>scattered clouds</td>\n",
       "      <td>42.7762</td>\n",
       "      <td>-9.0603</td>\n",
       "      <td>Apartment Av. Castelao</td>\n",
       "    </tr>\n",
       "  </tbody>\n",
       "</table>\n",
       "</div>"
      ],
      "text/plain": [
       "   City_ID      City Country  Max Temp Current Description      Lat     Lng  \\\n",
       "0      511  La Rioja      ES     71.38     overcast clouds  42.2500 -2.5000   \n",
       "1      103   Peniche      PT     76.28           clear sky  39.3558 -9.3811   \n",
       "2      467    Areosa      PT     71.82          light rain  41.7178 -8.8571   \n",
       "3      106     Muros      ES     77.68    scattered clouds  42.7762 -9.0603   \n",
       "\n",
       "               Hotel Name  \n",
       "0           Casa Concejos  \n",
       "1  Hotel Star inn Peniche  \n",
       "2       Hotel Flôr de Sal  \n",
       "3  Apartment Av. Castelao  "
      ]
     },
     "execution_count": 16,
     "metadata": {},
     "output_type": "execute_result"
    }
   ],
   "source": [
    "# 8. To create a marker layer map between the four cities.\n",
    "#  Combine the four city DataFrames into one DataFrame using the concat() function.\n",
    "itinerary_df = pd.concat([vacation_start, vacation_stop1, vacation_stop2, vacation_stop3],ignore_index=True)\n",
    "itinerary_df"
   ]
  },
  {
   "cell_type": "code",
   "execution_count": 17,
   "metadata": {},
   "outputs": [],
   "source": [
    "# 9 Using the template add city name, the country code, the weather description and maximum temperature for the city. \n",
    "info_box_template = \"\"\"\n",
    "<dl>\n",
    "<dt>Hotel</dt><dd>{Hotel Name}</dd>\n",
    "<dt>City</dt><dd>{City}</dd>\n",
    "<dt>Country</dt><dd>{Country}</dd>\n",
    "<dt>Current Weather</dt><dd>{Current Description} and {Max Temp}°F<dd>\n",
    "</dl>\n",
    "\"\"\"\n",
    "\n",
    "\n",
    "# 10a Get the data from each row and add it to the formatting template and store the data in a list.\n",
    "hotel_info = [info_box_template.format(**row) for index, row in itinerary_df.iterrows()]\n",
    "\n",
    "# 10b. Get the latitude and longitude from each row and store in a new DataFrame.\n",
    "locations = itinerary_df[[\"Lat\", \"Lng\"]]"
   ]
  },
  {
   "cell_type": "code",
   "execution_count": 21,
   "metadata": {},
   "outputs": [
    {
     "data": {
      "application/vnd.jupyter.widget-view+json": {
       "model_id": "fa860418691e4e78a62d8134bee13e93",
       "version_major": 2,
       "version_minor": 0
      },
      "text/plain": [
       "Figure(layout=FigureLayout(height='420px'))"
      ]
     },
     "metadata": {},
     "output_type": "display_data"
    }
   ],
   "source": [
    "# 11a. Add a marker layer for each city to the map.\n",
    "fig = gmaps.figure(center=(30.0, 31.0), zoom_level=3)\n",
    "markers = gmaps.marker_layer(locations, info_box_content=hotel_info)\n",
    "fig.add_layer(markers)\n",
    "# 11b. Display the figure\n",
    "fig"
   ]
  },
  {
   "cell_type": "code",
   "execution_count": null,
   "metadata": {},
   "outputs": [],
   "source": []
  }
 ],
 "metadata": {
  "kernelspec": {
   "display_name": "Python 3 (ipykernel)",
   "language": "python",
   "name": "python3"
  },
  "language_info": {
   "codemirror_mode": {
    "name": "ipython",
    "version": 3
   },
   "file_extension": ".py",
   "mimetype": "text/x-python",
   "name": "python",
   "nbconvert_exporter": "python",
   "pygments_lexer": "ipython3",
   "version": "3.7.13"
  },
  "latex_envs": {
   "LaTeX_envs_menu_present": true,
   "autoclose": false,
   "autocomplete": true,
   "bibliofile": "biblio.bib",
   "cite_by": "apalike",
   "current_citInitial": 1,
   "eqLabelWithNumbers": true,
   "eqNumInitial": 1,
   "hotkeys": {
    "equation": "Ctrl-E",
    "itemize": "Ctrl-I"
   },
   "labels_anchors": false,
   "latex_user_defs": false,
   "report_style_numbering": false,
   "user_envs_cfg": false
  }
 },
 "nbformat": 4,
 "nbformat_minor": 2
}
