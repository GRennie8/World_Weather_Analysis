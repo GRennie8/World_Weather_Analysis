{
 "cells": [
  {
   "cell_type": "code",
   "execution_count": 6,
   "id": "5fdc3dee",
   "metadata": {},
   "outputs": [
    {
     "data": {
      "text/plain": [
       "0.9870488021315802"
      ]
     },
     "execution_count": 6,
     "metadata": {},
     "output_type": "execute_result"
    }
   ],
   "source": [
    "# import the random module\n",
    "import random\n",
    "random.random()"
   ]
  },
  {
   "cell_type": "code",
   "execution_count": 10,
   "id": "db8eee04",
   "metadata": {},
   "outputs": [
    {
     "data": {
      "text/plain": [
       "[-66.00985649230036,\n",
       " -49.882363363019394,\n",
       " 51.30687354151309,\n",
       " -38.040934611045444,\n",
       " -65.25313197890578,\n",
       " -81.84378583468992,\n",
       " 51.97197847991434,\n",
       " -65.3395785715369,\n",
       " 81.01511944681243,\n",
       " 39.566513998341]"
      ]
     },
     "execution_count": 10,
     "metadata": {},
     "output_type": "execute_result"
    }
   ],
   "source": [
    "x = 1 \n",
    "latitudes = []\n",
    "while x < 11:\n",
    "    random_lat = random.randint(-90, 89) + random.random()\n",
    "    latitudes.append(random_lat)\n",
    "    x += 1\n",
    "    \n",
    "latitudes"
   ]
  },
  {
   "cell_type": "code",
   "execution_count": 17,
   "id": "e678e230",
   "metadata": {},
   "outputs": [
    {
     "data": {
      "text/plain": [
       "-21"
      ]
     },
     "execution_count": 17,
     "metadata": {},
     "output_type": "execute_result"
    }
   ],
   "source": [
    "random.randrange(-90, 90, step=3)"
   ]
  },
  {
   "cell_type": "code",
   "execution_count": 19,
   "id": "29dfa649",
   "metadata": {},
   "outputs": [],
   "source": [
    "# Import the NumPy module.\n",
    "import numpy as np"
   ]
  },
  {
   "cell_type": "code",
   "execution_count": 21,
   "id": "c63d3619",
   "metadata": {},
   "outputs": [
    {
     "data": {
      "text/plain": [
       "array([-76.37642197,  14.82079333,  63.20733358, -84.26734422,\n",
       "        24.55960812, -71.55504253,  14.0106435 ,  24.91404123,\n",
       "         6.69801221, -33.27157945,  -2.95505398,   4.00385921,\n",
       "       -52.24593685,  79.5267079 , -29.7740404 , -57.21555619,\n",
       "        86.14374533, -25.36970261, -54.84366609, -64.65882142,\n",
       "       -38.03602865, -38.2861442 , -18.69823948,   5.44912124,\n",
       "        21.51852901,   2.40901045, -89.78830363, -38.21841842,\n",
       "        23.60677519, -48.82445434, -70.0095058 , -26.45881833,\n",
       "       -37.46279767, -46.88025522,  -1.99589948,  35.27759162,\n",
       "       -41.1932759 , -30.67408687,   4.55096524, -75.70715836,\n",
       "        67.78869476,  78.62753961, -89.83293744, -45.89569307,\n",
       "        25.06961309,  12.56859573,  13.21040275, -47.97934288,\n",
       "        68.98128437,  69.84387768])"
      ]
     },
     "execution_count": 21,
     "metadata": {},
     "output_type": "execute_result"
    }
   ],
   "source": [
    "np.random.uniform(-90.000, 90.000, size=50)"
   ]
  },
  {
   "cell_type": "code",
   "execution_count": 24,
   "id": "023cbad9",
   "metadata": {},
   "outputs": [],
   "source": [
    "# Import timeit.\n",
    "import timeit"
   ]
  },
  {
   "cell_type": "code",
   "execution_count": 25,
   "id": "bc3a9fda",
   "metadata": {},
   "outputs": [
    {
     "name": "stdout",
     "output_type": "stream",
     "text": [
      "12 µs ± 55.4 ns per loop (mean ± std. dev. of 7 runs, 100,000 loops each)\n"
     ]
    }
   ],
   "source": [
    "%timeit np.random.uniform(-90.000, 90.000, size=1500)"
   ]
  },
  {
   "cell_type": "code",
   "execution_count": 26,
   "id": "b876464d",
   "metadata": {},
   "outputs": [
    {
     "name": "stdout",
     "output_type": "stream",
     "text": [
      "1.11 ms ± 3.37 µs per loop (mean ± std. dev. of 7 runs, 1,000 loops each)\n"
     ]
    }
   ],
   "source": [
    "def latitudes(size):\n",
    "    latitudes = []\n",
    "    x = 0\n",
    "    while x < (size):\n",
    "        random_lat = random.randint(-90, 90) + random.random()\n",
    "        latitudes.append(random_lat)\n",
    "        x += 1\n",
    "    return latitudes\n",
    "# Call the function with 1500.\n",
    "%timeit latitudes(1500)"
   ]
  },
  {
   "cell_type": "code",
   "execution_count": null,
   "id": "635b0264",
   "metadata": {},
   "outputs": [],
   "source": []
  }
 ],
 "metadata": {
  "kernelspec": {
   "display_name": "PythonData",
   "language": "python",
   "name": "pythondata"
  },
  "language_info": {
   "codemirror_mode": {
    "name": "ipython",
    "version": 3
   },
   "file_extension": ".py",
   "mimetype": "text/x-python",
   "name": "python",
   "nbconvert_exporter": "python",
   "pygments_lexer": "ipython3",
   "version": "3.9.12"
  }
 },
 "nbformat": 4,
 "nbformat_minor": 5
}
